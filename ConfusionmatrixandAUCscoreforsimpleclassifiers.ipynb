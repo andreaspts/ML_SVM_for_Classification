{
 "cells": [
  {
   "cell_type": "markdown",
   "metadata": {},
   "source": [
    "# Confusion matrix and AUC-score\n",
    "\n",
    "In the following we would like to explore two related concepts to further judge the quality of a classification model, i.e. find a way to quantify the misclassifications. This is done via the so-called confusion matrix and the ROC-curve/AUC-score which allow us to compute the true-positive and false-positive rates and compare them.\n",
    "\n",
    "We seek to compare results for 5 classifiers here (logistic regressions, KNN, Random forest and SVM with an RBF kernel). The information to be classified is based on a simple data set with success/failure categories."
   ]
  },
  {
   "cell_type": "markdown",
   "metadata": {},
   "source": [
    "## 1) Confusion matrix\n",
    "\n",
    "In the most simple example with two classification categories one is led to the confusion matrix scheme:\n",
    "\n",
    "|#|Model: not true | Model: true|\n",
    "|-|-|-|\n",
    "|**reality: not true** | true negative | false positive|\n",
    "|**reality: true** | false negative | true positive|\n",
    "\n",
    "Example: \n",
    "\n",
    "false positive: positive prediction via model BUT was false\n",
    "true negative: negative prediction via model AND was true\n",
    "\n",
    "We would like to keep the number of false negatives small.\n",
    "\n",
    "For further information regarding this structure, we refer to https://en.wikipedia.org/wiki/Confusion_matrix."
   ]
  },
  {
   "cell_type": "code",
   "execution_count": 2,
   "metadata": {},
   "outputs": [],
   "source": [
    "#import necessary packages\n",
    "import pandas as pd\n",
    "import numpy as np\n",
    "\n",
    "from sklearn.model_selection import train_test_split\n",
    "from sklearn.preprocessing import StandardScaler\n",
    "from sklearn.linear_model import LogisticRegression\n",
    "\n",
    "%matplotlib inline\n",
    "import matplotlib.pyplot as plt\n",
    "\n",
    "from helper import plot_classifier #helper.py is saved in the repository"
   ]
  },
  {
   "cell_type": "code",
   "execution_count": 3,
   "metadata": {},
   "outputs": [
    {
     "data": {
      "text/html": [
       "<div>\n",
       "<style scoped>\n",
       "    .dataframe tbody tr th:only-of-type {\n",
       "        vertical-align: middle;\n",
       "    }\n",
       "\n",
       "    .dataframe tbody tr th {\n",
       "        vertical-align: top;\n",
       "    }\n",
       "\n",
       "    .dataframe thead th {\n",
       "        text-align: right;\n",
       "    }\n",
       "</style>\n",
       "<table border=\"1\" class=\"dataframe\">\n",
       "  <thead>\n",
       "    <tr style=\"text-align: right;\">\n",
       "      <th></th>\n",
       "      <th>age</th>\n",
       "      <th>interest</th>\n",
       "      <th>success</th>\n",
       "    </tr>\n",
       "  </thead>\n",
       "  <tbody>\n",
       "    <tr>\n",
       "      <th>0</th>\n",
       "      <td>23.657801</td>\n",
       "      <td>18.859917</td>\n",
       "      <td>0.0</td>\n",
       "    </tr>\n",
       "    <tr>\n",
       "      <th>1</th>\n",
       "      <td>22.573729</td>\n",
       "      <td>17.969223</td>\n",
       "      <td>0.0</td>\n",
       "    </tr>\n",
       "    <tr>\n",
       "      <th>2</th>\n",
       "      <td>32.553424</td>\n",
       "      <td>29.463651</td>\n",
       "      <td>0.0</td>\n",
       "    </tr>\n",
       "    <tr>\n",
       "      <th>3</th>\n",
       "      <td>6.718035</td>\n",
       "      <td>25.704665</td>\n",
       "      <td>1.0</td>\n",
       "    </tr>\n",
       "    <tr>\n",
       "      <th>4</th>\n",
       "      <td>14.401919</td>\n",
       "      <td>16.770856</td>\n",
       "      <td>0.0</td>\n",
       "    </tr>\n",
       "  </tbody>\n",
       "</table>\n",
       "</div>"
      ],
      "text/plain": [
       "         age   interest  success\n",
       "0  23.657801  18.859917      0.0\n",
       "1  22.573729  17.969223      0.0\n",
       "2  32.553424  29.463651      0.0\n",
       "3   6.718035  25.704665      1.0\n",
       "4  14.401919  16.770856      0.0"
      ]
     },
     "execution_count": 3,
     "metadata": {},
     "output_type": "execute_result"
    }
   ],
   "source": [
    "#define data frame\n",
    "df = pd.read_csv(\"classification.csv\")\n",
    "\n",
    "#to trop columns \n",
    "#df = df.drop(\"name of column\", axis = 1)\n",
    "\n",
    "df.head()"
   ]
  },
  {
   "cell_type": "code",
   "execution_count": 4,
   "metadata": {},
   "outputs": [],
   "source": [
    "#define variables and proceed with train/test split\n",
    "X = df[[\"age\", \"interest\"]].values\n",
    "Y = df[\"success\"].values #single brackets (!) needed for classification machine learling processing\n",
    "\n",
    "X_train, X_test, Y_train, Y_test = train_test_split(X, Y, random_state = 0, test_size = .25)\n",
    "\n",
    "#rescale training and test data\n",
    "scaler = StandardScaler()\n",
    "scaler.fit(X_train)\n",
    "\n",
    "X_train = scaler.transform(X_train)\n",
    "X_test = scaler.transform(X_test)"
   ]
  },
  {
   "cell_type": "code",
   "execution_count": 9,
   "metadata": {},
   "outputs": [
    {
     "name": "stdout",
     "output_type": "stream",
     "text": [
      "Score: 0.88\n"
     ]
    },
    {
     "name": "stderr",
     "output_type": "stream",
     "text": [
      "/Users/Andreas/anaconda3/lib/python3.6/site-packages/sklearn/linear_model/logistic.py:433: FutureWarning: Default solver will be changed to 'lbfgs' in 0.22. Specify a solver to silence this warning.\n",
      "  FutureWarning)\n"
     ]
    }
   ],
   "source": [
    "#train logistic regression model\n",
    "#one - vs - all classification\n",
    "\n",
    "model1 = LogisticRegression()\n",
    "model1.fit(X_train, Y_train)\n",
    "\n",
    "print(\"Score: \" + str(model1.score(X_test, Y_test)))"
   ]
  },
  {
   "cell_type": "code",
   "execution_count": 10,
   "metadata": {},
   "outputs": [
    {
     "name": "stdout",
     "output_type": "stream",
     "text": [
      "Score: 0.88\n"
     ]
    },
    {
     "name": "stderr",
     "output_type": "stream",
     "text": [
      "/Users/Andreas/anaconda3/lib/python3.6/site-packages/sklearn/linear_model/logistic.py:433: FutureWarning: Default solver will be changed to 'lbfgs' in 0.22. Specify a solver to silence this warning.\n",
      "  FutureWarning)\n"
     ]
    }
   ],
   "source": [
    "#train logistic regression model\n",
    "#one - vs - one classification\n",
    "\n",
    "from sklearn.multiclass import OneVsOneClassifier\n",
    "\n",
    "model2 = OneVsOneClassifier(LogisticRegression())\n",
    "\n",
    "model2.fit(X_train, Y_train)\n",
    "\n",
    "print(\"Score: \" + str(model2.score(X_test, Y_test)))"
   ]
  },
  {
   "cell_type": "code",
   "execution_count": 16,
   "metadata": {},
   "outputs": [],
   "source": [
    "Y_test_pred1 = model1.predict(X_test)\n",
    "Y_test_pred2 = model2.predict(X_test)"
   ]
  },
  {
   "cell_type": "code",
   "execution_count": 17,
   "metadata": {},
   "outputs": [
    {
     "name": "stdout",
     "output_type": "stream",
     "text": [
      "[1. 0. 0. 1. 1. 0. 0. 1. 1. 1. 1. 1. 0. 1. 1. 1. 0. 0. 0. 1. 1. 1. 0. 1.\n",
      " 0. 0. 1. 0. 1. 1. 0. 1. 0. 0. 1. 1. 0. 1. 0. 1. 0. 0. 1. 1. 1. 1. 1. 1.\n",
      " 0. 1. 1. 1. 1. 0. 1. 0. 1. 1. 0. 0. 0. 0. 1. 1. 1. 0. 1. 0. 1. 1. 0. 1.\n",
      " 0. 1. 1.]\n"
     ]
    }
   ],
   "source": [
    "#print(Y_test)\n",
    "print(Y_test_pred1)\n",
    "#print(Y_test_pred2)"
   ]
  },
  {
   "cell_type": "code",
   "execution_count": 18,
   "metadata": {},
   "outputs": [
    {
     "data": {
      "text/plain": [
       "array([[29,  8],\n",
       "       [ 1, 37]])"
      ]
     },
     "execution_count": 18,
     "metadata": {},
     "output_type": "execute_result"
    }
   ],
   "source": [
    "from sklearn.metrics import confusion_matrix\n",
    "\n",
    "confusion_matrix(Y_test, Y_test_pred1)"
   ]
  },
  {
   "cell_type": "code",
   "execution_count": 19,
   "metadata": {},
   "outputs": [
    {
     "data": {
      "text/plain": [
       "array([[29,  8],\n",
       "       [ 1, 37]])"
      ]
     },
     "execution_count": 19,
     "metadata": {},
     "output_type": "execute_result"
    }
   ],
   "source": [
    "confusion_matrix(Y_test, Y_test_pred2)"
   ]
  },
  {
   "cell_type": "code",
   "execution_count": 68,
   "metadata": {},
   "outputs": [
    {
     "name": "stdout",
     "output_type": "stream",
     "text": [
      "Score: 0.9466666666666667\n"
     ]
    }
   ],
   "source": [
    "#train KNN classifier\n",
    "from sklearn.neighbors import KNeighborsClassifier\n",
    "\n",
    "model3 = KNeighborsClassifier(n_neighbors = 5) #standard is n_neighbors = 5\n",
    "\n",
    "model3.fit(X_train, Y_train)\n",
    "\n",
    "Y_test_pred3 = model3.predict(X_test)\n",
    "\n",
    "print(\"Score: \" + str(model3.score(X_test, Y_test)))"
   ]
  },
  {
   "cell_type": "code",
   "execution_count": 67,
   "metadata": {},
   "outputs": [
    {
     "data": {
      "text/plain": [
       "array([[33,  4],\n",
       "       [ 1, 37]])"
      ]
     },
     "execution_count": 67,
     "metadata": {},
     "output_type": "execute_result"
    }
   ],
   "source": [
    "confusion_matrix(Y_test, Y_test_pred3)"
   ]
  },
  {
   "cell_type": "code",
   "execution_count": 54,
   "metadata": {},
   "outputs": [
    {
     "name": "stdout",
     "output_type": "stream",
     "text": [
      "Score: 0.9466666666666667\n"
     ]
    }
   ],
   "source": [
    "#train random forest classifier\n",
    "from sklearn.ensemble import RandomForestClassifier\n",
    "\n",
    "model4 = RandomForestClassifier(criterion = \"entropy\", n_estimators = 25)\n",
    "\n",
    "model4.fit(X_train, Y_train)\n",
    "\n",
    "Y_test_pred4 = model4.predict(X_test)\n",
    "\n",
    "print(\"Score: \" + str(model4.score(X_test, Y_test)))"
   ]
  },
  {
   "cell_type": "code",
   "execution_count": 55,
   "metadata": {},
   "outputs": [
    {
     "data": {
      "text/plain": [
       "array([[34,  3],\n",
       "       [ 1, 37]])"
      ]
     },
     "execution_count": 55,
     "metadata": {},
     "output_type": "execute_result"
    }
   ],
   "source": [
    "confusion_matrix(Y_test, Y_test_pred4)"
   ]
  },
  {
   "cell_type": "code",
   "execution_count": 72,
   "metadata": {},
   "outputs": [
    {
     "name": "stdout",
     "output_type": "stream",
     "text": [
      "Score: 0.9466666666666667\n"
     ]
    }
   ],
   "source": [
    "#train SVM RBF kernel classifier\n",
    "from sklearn.svm import SVC\n",
    "\n",
    "#Kernel form K(x,x')=exp(-||x-x'||^2/(2gamma^2))\n",
    "#gamma large: kernel strongly peaked, gamma small: kernel slowly decaying wide peak\n",
    "#C value as for linear kernels modulates emphasis of landmark data points\n",
    "model5 = SVC(kernel = \"rbf\", gamma = 0.1, C = 8,probability=True)\n",
    "\n",
    "model5.fit(X_train, Y_train)\n",
    "\n",
    "Y_test_pred5 = model5.predict(X_test)\n",
    "\n",
    "print(\"Score: \" + str(model5.score(X_test, Y_test)))"
   ]
  },
  {
   "cell_type": "code",
   "execution_count": 73,
   "metadata": {},
   "outputs": [
    {
     "data": {
      "text/plain": [
       "array([[33,  4],\n",
       "       [ 0, 38]])"
      ]
     },
     "execution_count": 73,
     "metadata": {},
     "output_type": "execute_result"
    }
   ],
   "source": [
    "confusion_matrix(Y_test, Y_test_pred5)"
   ]
  },
  {
   "cell_type": "markdown",
   "metadata": {},
   "source": [
    "Judging by the information encoded by the confusion matrices we see that the models accurately classify the data points, as the off-diagonal entries are rather small. To further quantify the quality of our models, we have to resort to the AUC-score."
   ]
  },
  {
   "cell_type": "markdown",
   "metadata": {},
   "source": [
    "## 2) ROC-curve and AUC-score\n",
    "\n",
    "The Receiver-operating-characteristic curve plots the true-postive rates over the false-positive rates for a respective model. The area-under-curve (AUC) is numerically obtained from the plot. The higher the value to 1 the better it is. For further information regarding these points, we refer to https://en.wikipedia.org/wiki/Receiver_operating_characteristic."
   ]
  },
  {
   "cell_type": "code",
   "execution_count": 77,
   "metadata": {},
   "outputs": [],
   "source": [
    "#predict Y values according to respective model from test data X_test, output in terms of probabilities (as compared to model1.predict(X_test))\n",
    "Y_test_pred1 = model1.predict_proba(X_test)[:,1] #all lines of second column (1st and 2nd column are linearly dependent)\n",
    "# Y_test_pred2 = model2.predict_proba(X_test)[:,1] #'OneVsOneClassifier' object has no attribute 'predict_proba'\n",
    "Y_test_pred3 = model3.predict_proba(X_test)[:,1]\n",
    "Y_test_pred4 = model4.predict_proba(X_test)[:,1]\n",
    "Y_test_pred5 = model5.predict_proba(X_test)[:,1]"
   ]
  },
  {
   "cell_type": "code",
   "execution_count": 78,
   "metadata": {},
   "outputs": [],
   "source": [
    "from sklearn.metrics import roc_curve, roc_auc_score"
   ]
  },
  {
   "cell_type": "code",
   "execution_count": 83,
   "metadata": {},
   "outputs": [],
   "source": [
    "#compute ROC curve\n",
    "# false-positive rate, true-positive rate, threshold values\n",
    "fpr1, tpr1, thresholds1 = roc_curve(Y_test,Y_test_pred1)\n",
    "fpr3, tpr3, thresholds3 = roc_curve(Y_test,Y_test_pred3)\n",
    "fpr4, tpr4, thresholds4 = roc_curve(Y_test,Y_test_pred4)\n",
    "fpr5, tpr5, thresholds5 = roc_curve(Y_test,Y_test_pred5)"
   ]
  },
  {
   "cell_type": "code",
   "execution_count": 97,
   "metadata": {
    "scrolled": true
   },
   "outputs": [
    {
     "data": {
      "image/png": "[encoded data removed]",
      "text/plain": [
       "<Figure size 432x288 with 1 Axes>"
      ]
     },
     "metadata": {
      "image/png": {
       "height": 277,
       "width": 385
      },
      "needs_background": "light"
     },
     "output_type": "display_data"
    }
   ],
   "source": [
    "#plot ROC curve\n",
    "#ideal curve would be step function\n",
    "plt.plot(fpr1, tpr1, color = 'y')\n",
    "plt.plot(fpr3, tpr3, color = 'b')\n",
    "plt.plot(fpr4, tpr4, color = 'g')\n",
    "plt.plot(fpr5, tpr5, color = 'r')\n",
    "plt.plot([0, 1], [0, 1], color='navy', linestyle='--')\n",
    "plt.xlabel('False Positive Rate')\n",
    "plt.ylabel('True Positive Rate')\n",
    "plt.title('Receiver operating characteristic curves')\n",
    "plt.show()"
   ]
  },
  {
   "cell_type": "markdown",
   "metadata": {},
   "source": [
    "One may say that despite the R2-score values for the models being rather close that the ROC-curve can be used to distinguish the quality of the models even further. As it seems, the SVM model with RBF kerel fits the data pretty well, according to the 2 score types. This is numerically confirmed by computing the AUC score:"
   ]
  },
  {
   "cell_type": "code",
   "execution_count": 93,
   "metadata": {},
   "outputs": [
    {
     "name": "stdout",
     "output_type": "stream",
     "text": [
      "0.9601706970128023\n",
      "0.9516358463726884\n",
      "0.9455903271692746\n",
      "0.9708392603129445\n"
     ]
    }
   ],
   "source": [
    "print(roc_auc_score(Y_test,Y_test_pred1))\n",
    "print(roc_auc_score(Y_test,Y_test_pred3))\n",
    "print(roc_auc_score(Y_test,Y_test_pred4))\n",
    "print(roc_auc_score(Y_test,Y_test_pred5))"
   ]
  }
 ],
 "metadata": {
  "kernelspec": {
   "display_name": "Python 3",
   "language": "python",
   "name": "python3"
  },
  "language_info": {
   "codemirror_mode": {
    "name": "ipython",
    "version": 3
   },
   "file_extension": ".py",
   "mimetype": "text/x-python",
   "name": "python",
   "nbconvert_exporter": "python",
   "pygments_lexer": "ipython3",
   "version": "3.6.7"
  }
 },
 "nbformat": 4,
 "nbformat_minor": 2
}
